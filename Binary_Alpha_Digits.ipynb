{
  "nbformat": 4,
  "nbformat_minor": 0,
  "metadata": {
    "colab": {
      "name": "Binary_Alpha_Digits.ipynb",
      "provenance": [],
      "authorship_tag": "ABX9TyPj9jwau4YPQRjG8mAauHKn",
      "include_colab_link": true
    },
    "kernelspec": {
      "name": "python3",
      "display_name": "Python 3"
    },
    "language_info": {
      "name": "python"
    }
  },
  "cells": [
    {
      "cell_type": "markdown",
      "metadata": {
        "id": "view-in-github",
        "colab_type": "text"
      },
      "source": [
        "<a href=\"https://colab.research.google.com/github/ngcheeyuan/Tensorflow-Certification-Practice/blob/main/Binary_Alpha_Digits.ipynb\" target=\"_parent\"><img src=\"https://colab.research.google.com/assets/colab-badge.svg\" alt=\"Open In Colab\"/></a>"
      ]
    },
    {
      "cell_type": "code",
      "source": [
        "import tensorflow_datasets as tfds\n",
        "import random"
      ],
      "metadata": {
        "id": "Ju_aU33yuZ96"
      },
      "execution_count": null,
      "outputs": []
    },
    {
      "cell_type": "code",
      "source": [
        "import tensorflow as tf\n",
        "from tensorflow.keras import layers\n",
        "from tensorflow.keras import callbacks\n",
        "import pandas as pd\n",
        "import numpy as np\n",
        "import seaborn as sns\n",
        "import matplotlib.pyplot as plt"
      ],
      "metadata": {
        "id": "EZd4NQz0K01j"
      },
      "execution_count": null,
      "outputs": []
    },
    {
      "cell_type": "code",
      "source": [
        "ds, ds_info = tfds.load('binary_alpha_digits',\n",
        "                        with_info = True,\n",
        "                        shuffle_files = True,\n",
        "                        as_supervised = True\n",
        "                        )"
      ],
      "metadata": {
        "id": "Q5ohfxfeLCQB"
      },
      "execution_count": null,
      "outputs": []
    },
    {
      "cell_type": "code",
      "source": [
        "random_index = random.randint(0,len(ds['train'])-9)\n",
        "example = ds['train'].skip(random_index).take(9)\n",
        "plt.figure(figsize = (10,10))\n",
        "for index,(image,label) in enumerate(example,1):\n",
        "  plt.subplot(3,3,index)\n",
        "  plt.imshow(image.numpy().squeeze())\n",
        "  plt.axis(False)\n",
        "  plt.title(f'label :{label} \\n shape:{image.numpy().squeeze().shape}')"
      ],
      "metadata": {
        "colab": {
          "base_uri": "https://localhost:8080/",
          "height": 606
        },
        "id": "tb1QxdnDU4QS",
        "outputId": "04a38fd0-cfeb-4706-edb6-8f45ed33f9b7"
      },
      "execution_count": null,
      "outputs": [
        {
          "output_type": "display_data",
          "data": {
            "image/png": "[encoded data removed]",
            "text/plain": [
              "<Figure size 720x720 with 9 Axes>"
            ]
          },
          "metadata": {
            "needs_background": "light"
          }
        }
      ]
    },
    {
      "cell_type": "code",
      "source": [
        "TEST_SIZE = 0.25\n",
        "ds_train = ds['train'].take(int((1-TEST_SIZE)*len(ds['train'])))\n",
        "ds_val = ds['train'].skip(int((1-TEST_SIZE)*len(ds['train'])))"
      ],
      "metadata": {
        "id": "TuWy9zLuVRM5"
      },
      "execution_count": null,
      "outputs": []
    },
    {
      "cell_type": "code",
      "source": [
        "image_list = []\n",
        "label_list = []\n",
        "for image , label in ds['train'].take(len(ds_train)):\n",
        "  image_list.append(tf.cast(image,dtype = tf.float32))\n",
        "  label_list.append(label.numpy())"
      ],
      "metadata": {
        "id": "q7D6vI46mQTs"
      },
      "execution_count": null,
      "outputs": []
    },
    {
      "cell_type": "code",
      "source": [
        "image_list[0].shape"
      ],
      "metadata": {
        "colab": {
          "base_uri": "https://localhost:8080/"
        },
        "id": "vvk3-prIpf6F",
        "outputId": "3fa36ca3-8128-465e-c556-220b7972ae50"
      },
      "execution_count": null,
      "outputs": [
        {
          "output_type": "execute_result",
          "data": {
            "text/plain": [
              "TensorShape([20, 16, 1])"
            ]
          },
          "metadata": {},
          "execution_count": 146
        }
      ]
    },
    {
      "cell_type": "code",
      "source": [
        "from sklearn.model_selection import train_test_split\n",
        "X_train, X_val , y_train , y_val = train_test_split(image_list,\n",
        "                                                    label_list,\n",
        "                                                    test_size = 0.25,\n",
        "                                                    shuffle = True,\n",
        "                                                    stratify = label_list)"
      ],
      "metadata": {
        "id": "DuYEMNjmmsZK"
      },
      "execution_count": null,
      "outputs": []
    },
    {
      "cell_type": "code",
      "source": [
        " from collections import Counter\n",
        " Counter(label_list)"
      ],
      "metadata": {
        "colab": {
          "base_uri": "https://localhost:8080/"
        },
        "id": "sJXeQIJ9m8U5",
        "outputId": "1e8a264e-9d68-44c9-aa86-9ee0ecc5ac43"
      },
      "execution_count": null,
      "outputs": [
        {
          "output_type": "execute_result",
          "data": {
            "text/plain": [
              "Counter({0: 30,\n",
              "         1: 29,\n",
              "         2: 31,\n",
              "         3: 32,\n",
              "         4: 28,\n",
              "         5: 28,\n",
              "         6: 24,\n",
              "         7: 34,\n",
              "         8: 33,\n",
              "         9: 29,\n",
              "         10: 29,\n",
              "         11: 32,\n",
              "         12: 29,\n",
              "         13: 28,\n",
              "         14: 27,\n",
              "         15: 25,\n",
              "         16: 30,\n",
              "         17: 30,\n",
              "         18: 33,\n",
              "         19: 29,\n",
              "         20: 33,\n",
              "         21: 28,\n",
              "         22: 30,\n",
              "         23: 26,\n",
              "         24: 30,\n",
              "         25: 27,\n",
              "         26: 30,\n",
              "         27: 24,\n",
              "         28: 34,\n",
              "         29: 31,\n",
              "         30: 31,\n",
              "         31: 23,\n",
              "         32: 28,\n",
              "         33: 34,\n",
              "         34: 29,\n",
              "         35: 25})"
            ]
          },
          "metadata": {},
          "execution_count": 148
        }
      ]
    },
    {
      "cell_type": "code",
      "source": [
        "def dataset_prep(images,labels):\n",
        "  image_data = tf.data.Dataset.from_tensor_slices(images)\n",
        "  label_data = tf.data.Dataset.from_tensor_slices(labels)\n",
        "  dataset = tf.data.Dataset.zip((image_data,label_data))\n",
        "  dataset = dataset.batch(32).prefetch(tf.data.AUTOTUNE)\n",
        "\n",
        "  return dataset"
      ],
      "metadata": {
        "id": "3vkLMFXvj6Jk"
      },
      "execution_count": null,
      "outputs": []
    },
    {
      "cell_type": "code",
      "source": [
        "ds_train = dataset_prep(X_train,y_train)\n",
        "ds_val = dataset_prep(X_val,y_val)"
      ],
      "metadata": {
        "id": "nTHXkjjDn_8l"
      },
      "execution_count": null,
      "outputs": []
    },
    {
      "cell_type": "code",
      "source": [
        "print(ds_train)\n",
        "print(ds_val)"
      ],
      "metadata": {
        "colab": {
          "base_uri": "https://localhost:8080/"
        },
        "id": "eIFwyuXEiFpq",
        "outputId": "dd2c4537-1b21-432d-eb33-665f60eee340"
      },
      "execution_count": null,
      "outputs": [
        {
          "output_type": "stream",
          "name": "stdout",
          "text": [
            "<PrefetchDataset shapes: ((None, 20, 16, 1), (None,)), types: (tf.float32, tf.int32)>\n",
            "<PrefetchDataset shapes: ((None, 20, 16, 1), (None,)), types: (tf.float32, tf.int32)>\n"
          ]
        }
      ]
    },
    {
      "cell_type": "markdown",
      "source": [
        "## Model 0: VGG Block"
      ],
      "metadata": {
        "id": "e8z1o3gKiIH9"
      }
    },
    {
      "cell_type": "code",
      "source": [
        "FILTERS = 10\n",
        "KERNEL_SIZE = (2,2)\n",
        "model = tf.keras.Sequential([\n",
        "                             layers.Conv2D(filters = FILTERS,\n",
        "                                           kernel_size = KERNEL_SIZE,\n",
        "                                           activation = 'relu', name = 'conv_1_1'),\n",
        "                             layers.Conv2D(filters = FILTERS,\n",
        "                                           kernel_size = KERNEL_SIZE,\n",
        "                                           activation = 'relu', name = 'conv_1_2'),\n",
        "                             layers.AveragePooling2D(name = 'pool_1'),\n",
        "                             layers.Conv2D(filters = FILTERS,\n",
        "                                           kernel_size = KERNEL_SIZE,\n",
        "                                           activation = 'relu', name = 'conv_2_1'),\n",
        "                             layers.Conv2D(filters = FILTERS,\n",
        "                                           kernel_size = KERNEL_SIZE,\n",
        "                                           activation = 'relu', name = 'conv_2_2'),\n",
        "                             layers.AveragePooling2D(name = 'pool_2'),\n",
        "                             layers.Conv2D(filters = FILTERS,\n",
        "                                           kernel_size = KERNEL_SIZE,\n",
        "                                           activation = 'relu', name = 'conv_3_1'),\n",
        "                             layers.Conv2D(filters = FILTERS,\n",
        "                                           kernel_size = KERNEL_SIZE,\n",
        "                                           activation = 'relu', name = 'conv_3_2'),\n",
        "                             layers.AveragePooling2D(name = 'pool_3'),                            \n",
        "                             layers.Flatten(),\n",
        "                             layers.Dense(36,activation = 'softmax')\n",
        "])"
      ],
      "metadata": {
        "id": "AiWZrfZXiTrp"
      },
      "execution_count": null,
      "outputs": []
    },
    {
      "cell_type": "code",
      "source": [
        "model.compile(loss = tf.keras.losses.SparseCategoricalCrossentropy(),\n",
        "              metrics = ['accuracy'],\n",
        "              optimizer = tf.keras.optimizers.RMSprop())"
      ],
      "metadata": {
        "id": "kx5c4wIRjbO_"
      },
      "execution_count": null,
      "outputs": []
    },
    {
      "cell_type": "code",
      "source": [
        "FILEPATH = 'model_checkpoints/'\n",
        "history_0 = model.fit(ds_train,\n",
        "                      epochs = 100,\n",
        "                      validation_data = ds_val,\n",
        "                      callbacks = [callbacks.EarlyStopping(monitor = 'val_loss',\n",
        "                                                          patience = 10,\n",
        "                                                          min_delta = 0.0001,\n",
        "                                                          ),\n",
        "                                  callbacks.ModelCheckpoint(filepath = FILEPATH,\n",
        "                                                            save_best_only = True)]\n",
        "                      )"
      ],
      "metadata": {
        "colab": {
          "base_uri": "https://localhost:8080/"
        },
        "id": "OEtuuHh0jpA4",
        "outputId": "05544609-6063-44ec-f116-124663ca0125"
      },
      "execution_count": null,
      "outputs": [
        {
          "output_type": "stream",
          "name": "stdout",
          "text": [
            "Epoch 1/100\n",
            "25/25 [==============================] - ETA: 0s - loss: 3.5799 - accuracy: 0.0292INFO:tensorflow:Assets written to: model_checkpoints/assets\n"
          ]
        },
        {
          "output_type": "stream",
          "name": "stderr",
          "text": [
            "INFO:tensorflow:Assets written to: model_checkpoints/assets\n"
          ]
        },
        {
          "output_type": "stream",
          "name": "stdout",
          "text": [
            "25/25 [==============================] - 3s 71ms/step - loss: 3.5799 - accuracy: 0.0292 - val_loss: 3.5698 - val_accuracy: 0.0379\n",
            "Epoch 2/100\n",
            "24/25 [===========================>..] - ETA: 0s - loss: 3.5606 - accuracy: 0.0378INFO:tensorflow:Assets written to: model_checkpoints/assets\n"
          ]
        },
        {
          "output_type": "stream",
          "name": "stderr",
          "text": [
            "INFO:tensorflow:Assets written to: model_checkpoints/assets\n"
          ]
        },
        {
          "output_type": "stream",
          "name": "stdout",
          "text": [
            "25/25 [==============================] - 2s 66ms/step - loss: 3.5609 - accuracy: 0.0380 - val_loss: 3.5374 - val_accuracy: 0.0455\n",
            "Epoch 3/100\n",
            "23/25 [==========================>...] - ETA: 0s - loss: 3.5134 - accuracy: 0.0503INFO:tensorflow:Assets written to: model_checkpoints/assets\n"
          ]
        },
        {
          "output_type": "stream",
          "name": "stderr",
          "text": [
            "INFO:tensorflow:Assets written to: model_checkpoints/assets\n"
          ]
        },
        {
          "output_type": "stream",
          "name": "stdout",
          "text": [
            "25/25 [==============================] - 2s 65ms/step - loss: 3.5122 - accuracy: 0.0494 - val_loss: 3.4622 - val_accuracy: 0.0530\n",
            "Epoch 4/100\n",
            "22/25 [=========================>....] - ETA: 0s - loss: 3.4163 - accuracy: 0.0526INFO:tensorflow:Assets written to: model_checkpoints/assets\n"
          ]
        },
        {
          "output_type": "stream",
          "name": "stderr",
          "text": [
            "INFO:tensorflow:Assets written to: model_checkpoints/assets\n"
          ]
        },
        {
          "output_type": "stream",
          "name": "stdout",
          "text": [
            "25/25 [==============================] - 2s 69ms/step - loss: 3.4129 - accuracy: 0.0545 - val_loss: 3.3264 - val_accuracy: 0.0795\n",
            "Epoch 5/100\n",
            "21/25 [========================>.....] - ETA: 0s - loss: 3.2617 - accuracy: 0.0893INFO:tensorflow:Assets written to: model_checkpoints/assets\n"
          ]
        },
        {
          "output_type": "stream",
          "name": "stderr",
          "text": [
            "INFO:tensorflow:Assets written to: model_checkpoints/assets\n"
          ]
        },
        {
          "output_type": "stream",
          "name": "stdout",
          "text": [
            "25/25 [==============================] - 2s 65ms/step - loss: 3.2471 - accuracy: 0.0938 - val_loss: 3.1236 - val_accuracy: 0.1667\n",
            "Epoch 6/100\n",
            "21/25 [========================>.....] - ETA: 0s - loss: 3.0438 - accuracy: 0.1503INFO:tensorflow:Assets written to: model_checkpoints/assets\n"
          ]
        },
        {
          "output_type": "stream",
          "name": "stderr",
          "text": [
            "INFO:tensorflow:Assets written to: model_checkpoints/assets\n"
          ]
        },
        {
          "output_type": "stream",
          "name": "stdout",
          "text": [
            "25/25 [==============================] - 2s 65ms/step - loss: 3.0263 - accuracy: 0.1559 - val_loss: 2.9008 - val_accuracy: 0.2083\n",
            "Epoch 7/100\n",
            "25/25 [==============================] - ETA: 0s - loss: 2.8116 - accuracy: 0.2193INFO:tensorflow:Assets written to: model_checkpoints/assets\n"
          ]
        },
        {
          "output_type": "stream",
          "name": "stderr",
          "text": [
            "INFO:tensorflow:Assets written to: model_checkpoints/assets\n"
          ]
        },
        {
          "output_type": "stream",
          "name": "stdout",
          "text": [
            "25/25 [==============================] - 2s 63ms/step - loss: 2.8116 - accuracy: 0.2193 - val_loss: 2.7304 - val_accuracy: 0.2197\n",
            "Epoch 8/100\n",
            "25/25 [==============================] - ETA: 0s - loss: 2.6478 - accuracy: 0.2497INFO:tensorflow:Assets written to: model_checkpoints/assets\n"
          ]
        },
        {
          "output_type": "stream",
          "name": "stderr",
          "text": [
            "INFO:tensorflow:Assets written to: model_checkpoints/assets\n"
          ]
        },
        {
          "output_type": "stream",
          "name": "stdout",
          "text": [
            "25/25 [==============================] - 2s 65ms/step - loss: 2.6478 - accuracy: 0.2497 - val_loss: 2.6113 - val_accuracy: 0.2500\n",
            "Epoch 9/100\n",
            "24/25 [===========================>..] - ETA: 0s - loss: 2.5304 - accuracy: 0.2773INFO:tensorflow:Assets written to: model_checkpoints/assets\n"
          ]
        },
        {
          "output_type": "stream",
          "name": "stderr",
          "text": [
            "INFO:tensorflow:Assets written to: model_checkpoints/assets\n"
          ]
        },
        {
          "output_type": "stream",
          "name": "stdout",
          "text": [
            "25/25 [==============================] - 2s 65ms/step - loss: 2.5225 - accuracy: 0.2801 - val_loss: 2.5178 - val_accuracy: 0.2727\n",
            "Epoch 10/100\n",
            "24/25 [===========================>..] - ETA: 0s - loss: 2.4272 - accuracy: 0.3008"
          ]
        }
      ]
    },
    {
      "cell_type": "code",
      "source": [
        "model_1 = tf.keras.Sequential([layers.Flatten(),\n",
        "                               layers.Dense(36,activation = 'softmax')\n",
        "])"
      ],
      "metadata": {
        "id": "EG8beVJek0oZ"
      },
      "execution_count": null,
      "outputs": []
    },
    {
      "cell_type": "code",
      "source": [
        "model_1.compile(loss = tf.keras.losses.SparseCategoricalCrossentropy(),\n",
        "                optimizer = tf.keras.optimizers.RMSprop(),\n",
        "                metrics = ['accuracy'])"
      ],
      "metadata": {
        "id": "ySHD0aXar5tw"
      },
      "execution_count": null,
      "outputs": []
    },
    {
      "cell_type": "code",
      "source": [
        "FILEPATH = 'model_checkpoints/'\n",
        "history_1 = model_1.fit(ds_train,\n",
        "                        epochs = 100,\n",
        "                        validation_data = ds_val,\n",
        "                        callbacks = [callbacks.EarlyStopping(monitor = 'val_loss',\n",
        "                                                            patience = 10,\n",
        "                                                            min_delta = 0.0001,\n",
        "                                                            ),\n",
        "                                    callbacks.ModelCheckpoint(filepath = FILEPATH,\n",
        "                                                              save_best_only = True)]\n",
        "                        )"
      ],
      "metadata": {
        "id": "nPxGQ5hjsFtc"
      },
      "execution_count": null,
      "outputs": []
    },
    {
      "cell_type": "code",
      "source": [
        ""
      ],
      "metadata": {
        "id": "y-X5DG6AsJmh"
      },
      "execution_count": null,
      "outputs": []
    }
  ]
}