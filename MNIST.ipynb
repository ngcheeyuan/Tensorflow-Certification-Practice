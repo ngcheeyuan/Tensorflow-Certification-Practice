{
  "nbformat": 4,
  "nbformat_minor": 0,
  "metadata": {
    "colab": {
      "name": "MNIST.ipynb",
      "provenance": [],
      "authorship_tag": "ABX9TyPGgFrOU6k6d3ZL10GhHWDx",
      "include_colab_link": true
    },
    "kernelspec": {
      "name": "python3",
      "display_name": "Python 3"
    },
    "language_info": {
      "name": "python"
    },
    "widgets": {
      "application/vnd.jupyter.widget-state+json": {
        "2d5216ff13f54c8492f1f4b88b5c4f39": {
          "model_module": "@jupyter-widgets/controls",
          "model_name": "HBoxModel",
          "model_module_version": "1.5.0",
          "state": {
            "_view_name": "HBoxView",
            "_dom_classes": [],
            "_model_name": "HBoxModel",
            "_view_module": "@jupyter-widgets/controls",
            "_model_module_version": "1.5.0",
            "_view_count": null,
            "_view_module_version": "1.5.0",
            "box_style": "",
            "layout": "IPY_MODEL_04bfab24ceb9429991a42a8c79c8342d",
            "_model_module": "@jupyter-widgets/controls",
            "children": [
              "IPY_MODEL_e6a8829695d446a48d5d92fba5b726a2",
              "IPY_MODEL_f2241ea490fa4fe48c1e69cbfbee6c53",
              "IPY_MODEL_692e096fbb694b2d8d84969f8d3a7423"
            ]
          }
        },
        "04bfab24ceb9429991a42a8c79c8342d": {
          "model_module": "@jupyter-widgets/base",
          "model_name": "LayoutModel",
          "model_module_version": "1.2.0",
          "state": {
            "_view_name": "LayoutView",
            "grid_template_rows": null,
            "right": null,
            "justify_content": null,
            "_view_module": "@jupyter-widgets/base",
            "overflow": null,
            "_model_module_version": "1.2.0",
            "_view_count": null,
            "flex_flow": null,
            "width": null,
            "min_width": null,
            "border": null,
            "align_items": null,
            "bottom": null,
            "_model_module": "@jupyter-widgets/base",
            "top": null,
            "grid_column": null,
            "overflow_y": null,
            "overflow_x": null,
            "grid_auto_flow": null,
            "grid_area": null,
            "grid_template_columns": null,
            "flex": null,
            "_model_name": "LayoutModel",
            "justify_items": null,
            "grid_row": null,
            "max_height": null,
            "align_content": null,
            "visibility": null,
            "align_self": null,
            "height": null,
            "min_height": null,
            "padding": null,
            "grid_auto_rows": null,
            "grid_gap": null,
            "max_width": null,
            "order": null,
            "_view_module_version": "1.2.0",
            "grid_template_areas": null,
            "object_position": null,
            "object_fit": null,
            "grid_auto_columns": null,
            "margin": null,
            "display": null,
            "left": null
          }
        },
        "e6a8829695d446a48d5d92fba5b726a2": {
          "model_module": "@jupyter-widgets/controls",
          "model_name": "HTMLModel",
          "model_module_version": "1.5.0",
          "state": {
            "_view_name": "HTMLView",
            "style": "IPY_MODEL_b38e2924ceb540598814530c794895e6",
            "_dom_classes": [],
            "description": "",
            "_model_name": "HTMLModel",
            "placeholder": "​",
            "_view_module": "@jupyter-widgets/controls",
            "_model_module_version": "1.5.0",
            "value": "Dl Completed...: 100%",
            "_view_count": null,
            "_view_module_version": "1.5.0",
            "description_tooltip": null,
            "_model_module": "@jupyter-widgets/controls",
            "layout": "IPY_MODEL_3b27851a14b044a5ac491a17305fa3c5"
          }
        },
        "f2241ea490fa4fe48c1e69cbfbee6c53": {
          "model_module": "@jupyter-widgets/controls",
          "model_name": "FloatProgressModel",
          "model_module_version": "1.5.0",
          "state": {
            "_view_name": "ProgressView",
            "style": "IPY_MODEL_53728257f67d4914875b3871ab04468b",
            "_dom_classes": [],
            "description": "",
            "_model_name": "FloatProgressModel",
            "bar_style": "success",
            "max": 4,
            "_view_module": "@jupyter-widgets/controls",
            "_model_module_version": "1.5.0",
            "value": 4,
            "_view_count": null,
            "_view_module_version": "1.5.0",
            "orientation": "horizontal",
            "min": 0,
            "description_tooltip": null,
            "_model_module": "@jupyter-widgets/controls",
            "layout": "IPY_MODEL_4e0125f9d95e47098cf0f26d09a2ada5"
          }
        },
        "692e096fbb694b2d8d84969f8d3a7423": {
          "model_module": "@jupyter-widgets/controls",
          "model_name": "HTMLModel",
          "model_module_version": "1.5.0",
          "state": {
            "_view_name": "HTMLView",
            "style": "IPY_MODEL_eb0e1590238c4b7ea75153858eb91573",
            "_dom_classes": [],
            "description": "",
            "_model_name": "HTMLModel",
            "placeholder": "​",
            "_view_module": "@jupyter-widgets/controls",
            "_model_module_version": "1.5.0",
            "value": " 4/4 [00:00&lt;00:00,  9.85 file/s]",
            "_view_count": null,
            "_view_module_version": "1.5.0",
            "description_tooltip": null,
            "_model_module": "@jupyter-widgets/controls",
            "layout": "IPY_MODEL_5aeb8c27eecd42d7a2809401802bdb1d"
          }
        },
        "b38e2924ceb540598814530c794895e6": {
          "model_module": "@jupyter-widgets/controls",
          "model_name": "DescriptionStyleModel",
          "model_module_version": "1.5.0",
          "state": {
            "_view_name": "StyleView",
            "_model_name": "DescriptionStyleModel",
            "description_width": "",
            "_view_module": "@jupyter-widgets/base",
            "_model_module_version": "1.5.0",
            "_view_count": null,
            "_view_module_version": "1.2.0",
            "_model_module": "@jupyter-widgets/controls"
          }
        },
        "3b27851a14b044a5ac491a17305fa3c5": {
          "model_module": "@jupyter-widgets/base",
          "model_name": "LayoutModel",
          "model_module_version": "1.2.0",
          "state": {
            "_view_name": "LayoutView",
            "grid_template_rows": null,
            "right": null,
            "justify_content": null,
            "_view_module": "@jupyter-widgets/base",
            "overflow": null,
            "_model_module_version": "1.2.0",
            "_view_count": null,
            "flex_flow": null,
            "width": null,
            "min_width": null,
            "border": null,
            "align_items": null,
            "bottom": null,
            "_model_module": "@jupyter-widgets/base",
            "top": null,
            "grid_column": null,
            "overflow_y": null,
            "overflow_x": null,
            "grid_auto_flow": null,
            "grid_area": null,
            "grid_template_columns": null,
            "flex": null,
            "_model_name": "LayoutModel",
            "justify_items": null,
            "grid_row": null,
            "max_height": null,
            "align_content": null,
            "visibility": null,
            "align_self": null,
            "height": null,
            "min_height": null,
            "padding": null,
            "grid_auto_rows": null,
            "grid_gap": null,
            "max_width": null,
            "order": null,
            "_view_module_version": "1.2.0",
            "grid_template_areas": null,
            "object_position": null,
            "object_fit": null,
            "grid_auto_columns": null,
            "margin": null,
            "display": null,
            "left": null
          }
        },
        "53728257f67d4914875b3871ab04468b": {
          "model_module": "@jupyter-widgets/controls",
          "model_name": "ProgressStyleModel",
          "model_module_version": "1.5.0",
          "state": {
            "_view_name": "StyleView",
            "_model_name": "ProgressStyleModel",
            "description_width": "",
            "_view_module": "@jupyter-widgets/base",
            "_model_module_version": "1.5.0",
            "_view_count": null,
            "_view_module_version": "1.2.0",
            "bar_color": null,
            "_model_module": "@jupyter-widgets/controls"
          }
        },
        "4e0125f9d95e47098cf0f26d09a2ada5": {
          "model_module": "@jupyter-widgets/base",
          "model_name": "LayoutModel",
          "model_module_version": "1.2.0",
          "state": {
            "_view_name": "LayoutView",
            "grid_template_rows": null,
            "right": null,
            "justify_content": null,
            "_view_module": "@jupyter-widgets/base",
            "overflow": null,
            "_model_module_version": "1.2.0",
            "_view_count": null,
            "flex_flow": null,
            "width": null,
            "min_width": null,
            "border": null,
            "align_items": null,
            "bottom": null,
            "_model_module": "@jupyter-widgets/base",
            "top": null,
            "grid_column": null,
            "overflow_y": null,
            "overflow_x": null,
            "grid_auto_flow": null,
            "grid_area": null,
            "grid_template_columns": null,
            "flex": null,
            "_model_name": "LayoutModel",
            "justify_items": null,
            "grid_row": null,
            "max_height": null,
            "align_content": null,
            "visibility": null,
            "align_self": null,
            "height": null,
            "min_height": null,
            "padding": null,
            "grid_auto_rows": null,
            "grid_gap": null,
            "max_width": null,
            "order": null,
            "_view_module_version": "1.2.0",
            "grid_template_areas": null,
            "object_position": null,
            "object_fit": null,
            "grid_auto_columns": null,
            "margin": null,
            "display": null,
            "left": null
          }
        },
        "eb0e1590238c4b7ea75153858eb91573": {
          "model_module": "@jupyter-widgets/controls",
          "model_name": "DescriptionStyleModel",
          "model_module_version": "1.5.0",
          "state": {
            "_view_name": "StyleView",
            "_model_name": "DescriptionStyleModel",
            "description_width": "",
            "_view_module": "@jupyter-widgets/base",
            "_model_module_version": "1.5.0",
            "_view_count": null,
            "_view_module_version": "1.2.0",
            "_model_module": "@jupyter-widgets/controls"
          }
        },
        "5aeb8c27eecd42d7a2809401802bdb1d": {
          "model_module": "@jupyter-widgets/base",
          "model_name": "LayoutModel",
          "model_module_version": "1.2.0",
          "state": {
            "_view_name": "LayoutView",
            "grid_template_rows": null,
            "right": null,
            "justify_content": null,
            "_view_module": "@jupyter-widgets/base",
            "overflow": null,
            "_model_module_version": "1.2.0",
            "_view_count": null,
            "flex_flow": null,
            "width": null,
            "min_width": null,
            "border": null,
            "align_items": null,
            "bottom": null,
            "_model_module": "@jupyter-widgets/base",
            "top": null,
            "grid_column": null,
            "overflow_y": null,
            "overflow_x": null,
            "grid_auto_flow": null,
            "grid_area": null,
            "grid_template_columns": null,
            "flex": null,
            "_model_name": "LayoutModel",
            "justify_items": null,
            "grid_row": null,
            "max_height": null,
            "align_content": null,
            "visibility": null,
            "align_self": null,
            "height": null,
            "min_height": null,
            "padding": null,
            "grid_auto_rows": null,
            "grid_gap": null,
            "max_width": null,
            "order": null,
            "_view_module_version": "1.2.0",
            "grid_template_areas": null,
            "object_position": null,
            "object_fit": null,
            "grid_auto_columns": null,
            "margin": null,
            "display": null,
            "left": null
          }
        }
      }
    }
  },
  "cells": [
    {
      "cell_type": "markdown",
      "metadata": {
        "id": "view-in-github",
        "colab_type": "text"
      },
      "source": [
        "<a href=\"https://colab.research.google.com/github/ngcheeyuan/Tensorflow-Certification-Practice/blob/main/MNIST.ipynb\" target=\"_parent\"><img src=\"https://colab.research.google.com/assets/colab-badge.svg\" alt=\"Open In Colab\"/></a>"
      ]
    },
    {
      "cell_type": "code",
      "execution_count": 1,
      "metadata": {
        "id": "63z7QpHeDL1Q"
      },
      "outputs": [],
      "source": [
        "import tensorflow_datasets as tfds\n",
        "import tensorflow as tf\n",
        "import pandas as pd\n",
        "import numpy as np\n",
        "import matplotlib.pyplot as plt"
      ]
    },
    {
      "cell_type": "code",
      "source": [
        "(ds_train , ds_test) , ds_info = tfds.load('mnist',\n",
        "                                           split = ['train','test'],\n",
        "                                           shuffle_files = True,\n",
        "                                           as_supervised = True,\n",
        "                                           with_info = True\n",
        "                                           )"
      ],
      "metadata": {
        "colab": {
          "base_uri": "https://localhost:8080/",
          "height": 219,
          "referenced_widgets": [
            "2d5216ff13f54c8492f1f4b88b5c4f39",
            "04bfab24ceb9429991a42a8c79c8342d",
            "e6a8829695d446a48d5d92fba5b726a2",
            "f2241ea490fa4fe48c1e69cbfbee6c53",
            "692e096fbb694b2d8d84969f8d3a7423",
            "b38e2924ceb540598814530c794895e6",
            "3b27851a14b044a5ac491a17305fa3c5",
            "53728257f67d4914875b3871ab04468b",
            "4e0125f9d95e47098cf0f26d09a2ada5",
            "eb0e1590238c4b7ea75153858eb91573",
            "5aeb8c27eecd42d7a2809401802bdb1d"
          ]
        },
        "id": "3fOqtHWc4U76",
        "outputId": "457dd537-d699-4e6a-e0a4-1716871f594d"
      },
      "execution_count": 2,
      "outputs": [
        {
          "output_type": "stream",
          "name": "stdout",
          "text": [
            "\u001b[1mDownloading and preparing dataset mnist/3.0.1 (download: 11.06 MiB, generated: 21.00 MiB, total: 32.06 MiB) to /root/tensorflow_datasets/mnist/3.0.1...\u001b[0m\n"
          ]
        },
        {
          "output_type": "stream",
          "name": "stderr",
          "text": [
            "WARNING:absl:Dataset mnist is hosted on GCS. It will automatically be downloaded to your\n",
            "local data directory. If you'd instead prefer to read directly from our public\n",
            "GCS bucket (recommended if you're running on GCP), you can instead pass\n",
            "`try_gcs=True` to `tfds.load` or set `data_dir=gs://tfds-data/datasets`.\n",
            "\n"
          ]
        },
        {
          "output_type": "display_data",
          "data": {
            "application/vnd.jupyter.widget-view+json": {
              "model_id": "2d5216ff13f54c8492f1f4b88b5c4f39",
              "version_minor": 0,
              "version_major": 2
            },
            "text/plain": [
              "Dl Completed...:   0%|          | 0/4 [00:00<?, ? file/s]"
            ]
          },
          "metadata": {}
        },
        {
          "output_type": "stream",
          "name": "stdout",
          "text": [
            "\n",
            "\u001b[1mDataset mnist downloaded and prepared to /root/tensorflow_datasets/mnist/3.0.1. Subsequent calls will reuse this data.\u001b[0m\n"
          ]
        }
      ]
    },
    {
      "cell_type": "code",
      "source": [
        "tfds.show_examples(ds_train , ds_info , rows = 4 , cols = 4)"
      ],
      "metadata": {
        "colab": {
          "base_uri": "https://localhost:8080/",
          "height": 1000
        },
        "id": "ouRjNNs4MXWW",
        "outputId": "366bb31a-799b-4a4c-8199-f945a6a74df5"
      },
      "execution_count": 3,
      "outputs": [
        {
          "output_type": "display_data",
          "data": {
            "image/png": "[encoded data removed]",
            "text/plain": [
              "<Figure size 864x864 with 16 Axes>"
            ]
          },
          "metadata": {}
        },
        {
          "output_type": "execute_result",
          "data": {
            "image/png": "[encoded data removed]",
            "text/plain": [
              "<Figure size 864x864 with 16 Axes>"
            ]
          },
          "metadata": {},
          "execution_count": 3
        }
      ]
    },
    {
      "cell_type": "code",
      "source": [
        "def normalize_image(image , label):\n",
        "  return tf.cast(image , tf.float32)/255.0 , label"
      ],
      "metadata": {
        "id": "x0EdRf1rJhbs"
      },
      "execution_count": 4,
      "outputs": []
    },
    {
      "cell_type": "code",
      "source": [
        "AUTOTUNE = tf.data.experimental.AUTOTUNE\n",
        "BATCH_SIZE = 32\n",
        "def format_data(ds , batchsize = BATCH_SIZE , shuffle = True):\n",
        "  ds = ds.map(normalize_image , num_parallel_calls = AUTOTUNE)\n",
        "  ds = ds.cache()\n",
        "  if shuffle:\n",
        "    ds = ds.shuffle(1000)\n",
        "  ds = ds.batch(batchsize)\n",
        "  ds = ds.prefetch(AUTOTUNE)\n",
        "\n",
        "  return ds"
      ],
      "metadata": {
        "id": "_WjpNga0Kqg1"
      },
      "execution_count": 6,
      "outputs": []
    },
    {
      "cell_type": "code",
      "source": [
        "train_ds = format_data(ds_train)\n",
        "test_ds = format_data(ds_test, shuffle = False)"
      ],
      "metadata": {
        "id": "GiPdCG23Lx1C"
      },
      "execution_count": 7,
      "outputs": []
    },
    {
      "cell_type": "markdown",
      "source": [
        "## Visualizing random images"
      ],
      "metadata": {
        "id": "wGtUCmdD65_i"
      }
    },
    {
      "cell_type": "code",
      "source": [
        "import random \n",
        "random_index = random.randint(0,len(ds_train)-9)\n",
        "examples = ds_train.skip(random_index).take(9)\n",
        "\n",
        "plt.figure(figsize = (12,12))\n",
        "for index , image in enumerate(examples,1):\n",
        "  plt.subplot(3,3, index)\n",
        "  plt.title(f\"label : {image[1].numpy()} \\n shape : {image[0].shape}\")\n",
        "  plt.imshow(tf.squeeze(image[0]))\n",
        "  plt.axis(False)"
      ],
      "metadata": {
        "colab": {
          "base_uri": "https://localhost:8080/",
          "height": 714
        },
        "id": "YWTa4Wje5CL9",
        "outputId": "7e15ba80-25f4-4ffe-e029-71150816c2e8"
      },
      "execution_count": 41,
      "outputs": [
        {
          "output_type": "display_data",
          "data": {
            "image/png": "[encoded data removed]",
            "text/plain": [
              "<Figure size 864x864 with 9 Axes>"
            ]
          },
          "metadata": {
            "needs_background": "light"
          }
        }
      ]
    },
    {
      "cell_type": "markdown",
      "source": [
        "1. Images are numbers between 0 and 9\n",
        "2. Image shapes are 28,28,1"
      ],
      "metadata": {
        "id": "_NPtQI857dRT"
      }
    },
    {
      "cell_type": "code",
      "source": [
        "def plot_loss_curve(history):\n",
        "  history_df = pd.DataFrame(history.history)\n",
        "  history_df['epochs'] = range(1,len(history_df)+1)\n",
        "\n",
        "  plt.figure(figsize = (16,8))\n",
        "  plt.subplot(1,2,1)\n",
        "  plt.plot(history_df['epochs'] , history_df['accuracy'] , label = 'train accuracy')\n",
        "  plt.plot(history_df['epochs'] , history_df['val_accuracy'] , label = 'validation accuracy')\n",
        "  plt.legend()\n",
        "\n",
        "  plt.subplot(1,2,2)\n",
        "  plt.plot(history_df['epochs'] , history_df['loss'] , label = 'train loss')\n",
        "  plt.plot(history_df['epochs'] , history_df['val_loss'] , label = 'validation loss')\n",
        "  plt.legend()"
      ],
      "metadata": {
        "id": "XYAcW0t39U5u"
      },
      "execution_count": 53,
      "outputs": []
    },
    {
      "cell_type": "markdown",
      "source": [
        "## Base Model"
      ],
      "metadata": {
        "id": "uuoOnzsew030"
      }
    },
    {
      "cell_type": "code",
      "source": [
        "FILTERS = 3\n",
        "model_0 = tf.keras.Sequential([\n",
        "                               tf.keras.layers.Flatten(),\n",
        "                               tf.keras.layers.Dense(10 , activation = 'softmax')\n",
        "])"
      ],
      "metadata": {
        "id": "V6-ltvNNww2t"
      },
      "execution_count": 69,
      "outputs": []
    },
    {
      "cell_type": "code",
      "source": [
        "model_0.compile(loss = tf.keras.losses.SparseCategoricalCrossentropy(),\n",
        "                optimizer = tf.keras.optimizers.Adam(),\n",
        "                metrics = ['accuracy'],\n",
        "                run_eagerly = True)"
      ],
      "metadata": {
        "id": "owyCevXOw32u"
      },
      "execution_count": 70,
      "outputs": []
    },
    {
      "cell_type": "code",
      "source": [
        "FILEPATH = 'saved_model/checkpoint'\n",
        "history_0 = model_0.fit(train_ds,\n",
        "                      steps_per_epoch = len(train_ds)//BATCH_SIZE,\n",
        "                      epochs = 30,\n",
        "                      validation_data = test_ds,\n",
        "                      validation_steps = len(test_ds)//BATCH_SIZE,\n",
        "                      callbacks = [tf.keras.callbacks.ModelCheckpoint(FILEPATH,\n",
        "                                                                      save_best_only = True)]\n",
        "                      )"
      ],
      "metadata": {
        "colab": {
          "base_uri": "https://localhost:8080/"
        },
        "id": "0LcfmQJMw6Iu",
        "outputId": "bdd5a73e-d113-4f84-96b0-76f603b80dfd"
      },
      "execution_count": 71,
      "outputs": [
        {
          "output_type": "stream",
          "name": "stdout",
          "text": [
            "Epoch 1/30\n",
            "58/58 [==============================] - ETA: 0s - loss: 1.7261 - accuracy: 0.5027INFO:tensorflow:Assets written to: saved_model/checkpoint/assets\n"
          ]
        },
        {
          "output_type": "stream",
          "name": "stderr",
          "text": [
            "INFO:tensorflow:Assets written to: saved_model/checkpoint/assets\n"
          ]
        },
        {
          "output_type": "stream",
          "name": "stdout",
          "text": [
            "58/58 [==============================] - 1s 25ms/step - loss: 1.7261 - accuracy: 0.5027 - val_loss: 1.1743 - val_accuracy: 0.7882\n",
            "Epoch 2/30\n",
            "58/58 [==============================] - ETA: 0s - loss: 1.0306 - accuracy: 0.7926INFO:tensorflow:Assets written to: saved_model/checkpoint/assets\n"
          ]
        },
        {
          "output_type": "stream",
          "name": "stderr",
          "text": [
            "INFO:tensorflow:Assets written to: saved_model/checkpoint/assets\n"
          ]
        },
        {
          "output_type": "stream",
          "name": "stdout",
          "text": [
            "58/58 [==============================] - 1s 25ms/step - loss: 1.0306 - accuracy: 0.7926 - val_loss: 0.7987 - val_accuracy: 0.8750\n",
            "Epoch 3/30\n",
            "56/58 [===========================>..] - ETA: 0s - loss: 0.7798 - accuracy: 0.8376INFO:tensorflow:Assets written to: saved_model/checkpoint/assets\n"
          ]
        },
        {
          "output_type": "stream",
          "name": "stderr",
          "text": [
            "INFO:tensorflow:Assets written to: saved_model/checkpoint/assets\n"
          ]
        },
        {
          "output_type": "stream",
          "name": "stdout",
          "text": [
            "58/58 [==============================] - 2s 26ms/step - loss: 0.7784 - accuracy: 0.8384 - val_loss: 0.6360 - val_accuracy: 0.8750\n",
            "Epoch 4/30\n",
            "57/58 [============================>.] - ETA: 0s - loss: 0.6713 - accuracy: 0.8443INFO:tensorflow:Assets written to: saved_model/checkpoint/assets\n"
          ]
        },
        {
          "output_type": "stream",
          "name": "stderr",
          "text": [
            "INFO:tensorflow:Assets written to: saved_model/checkpoint/assets\n"
          ]
        },
        {
          "output_type": "stream",
          "name": "stdout",
          "text": [
            "58/58 [==============================] - 1s 26ms/step - loss: 0.6690 - accuracy: 0.8448 - val_loss: 0.5448 - val_accuracy: 0.9062\n",
            "Epoch 5/30\n",
            "56/58 [===========================>..] - ETA: 0s - loss: 0.5877 - accuracy: 0.8532INFO:tensorflow:Assets written to: saved_model/checkpoint/assets\n"
          ]
        },
        {
          "output_type": "stream",
          "name": "stderr",
          "text": [
            "INFO:tensorflow:Assets written to: saved_model/checkpoint/assets\n"
          ]
        },
        {
          "output_type": "stream",
          "name": "stdout",
          "text": [
            "58/58 [==============================] - 1s 25ms/step - loss: 0.5838 - accuracy: 0.8551 - val_loss: 0.4986 - val_accuracy: 0.9097\n",
            "Epoch 6/30\n",
            "56/58 [===========================>..] - ETA: 0s - loss: 0.5440 - accuracy: 0.8711INFO:tensorflow:Assets written to: saved_model/checkpoint/assets\n"
          ]
        },
        {
          "output_type": "stream",
          "name": "stderr",
          "text": [
            "INFO:tensorflow:Assets written to: saved_model/checkpoint/assets\n"
          ]
        },
        {
          "output_type": "stream",
          "name": "stdout",
          "text": [
            "58/58 [==============================] - 2s 26ms/step - loss: 0.5394 - accuracy: 0.8734 - val_loss: 0.4573 - val_accuracy: 0.9062\n",
            "Epoch 7/30\n",
            "56/58 [===========================>..] - ETA: 0s - loss: 0.4901 - accuracy: 0.8772INFO:tensorflow:Assets written to: saved_model/checkpoint/assets\n"
          ]
        },
        {
          "output_type": "stream",
          "name": "stderr",
          "text": [
            "INFO:tensorflow:Assets written to: saved_model/checkpoint/assets\n"
          ]
        },
        {
          "output_type": "stream",
          "name": "stdout",
          "text": [
            "58/58 [==============================] - 1s 25ms/step - loss: 0.4885 - accuracy: 0.8772 - val_loss: 0.4292 - val_accuracy: 0.9062\n",
            "Epoch 8/30\n",
            "55/58 [===========================>..] - ETA: 0s - loss: 0.4745 - accuracy: 0.8761INFO:tensorflow:Assets written to: saved_model/checkpoint/assets\n"
          ]
        },
        {
          "output_type": "stream",
          "name": "stderr",
          "text": [
            "INFO:tensorflow:Assets written to: saved_model/checkpoint/assets\n"
          ]
        },
        {
          "output_type": "stream",
          "name": "stdout",
          "text": [
            "58/58 [==============================] - 1s 26ms/step - loss: 0.4684 - accuracy: 0.8793 - val_loss: 0.4031 - val_accuracy: 0.9132\n",
            "Epoch 9/30\n",
            "55/58 [===========================>..] - ETA: 0s - loss: 0.4601 - accuracy: 0.8750INFO:tensorflow:Assets written to: saved_model/checkpoint/assets\n"
          ]
        },
        {
          "output_type": "stream",
          "name": "stderr",
          "text": [
            "INFO:tensorflow:Assets written to: saved_model/checkpoint/assets\n"
          ]
        },
        {
          "output_type": "stream",
          "name": "stdout",
          "text": [
            "58/58 [==============================] - 1s 25ms/step - loss: 0.4580 - accuracy: 0.8761 - val_loss: 0.3826 - val_accuracy: 0.9132\n",
            "Epoch 10/30\n",
            "56/58 [===========================>..] - ETA: 0s - loss: 0.4270 - accuracy: 0.8828INFO:tensorflow:Assets written to: saved_model/checkpoint/assets\n"
          ]
        },
        {
          "output_type": "stream",
          "name": "stderr",
          "text": [
            "INFO:tensorflow:Assets written to: saved_model/checkpoint/assets\n"
          ]
        },
        {
          "output_type": "stream",
          "name": "stdout",
          "text": [
            "58/58 [==============================] - 1s 25ms/step - loss: 0.4257 - accuracy: 0.8836 - val_loss: 0.3679 - val_accuracy: 0.9167\n",
            "Epoch 11/30\n",
            "58/58 [==============================] - ETA: 0s - loss: 0.4222 - accuracy: 0.8917INFO:tensorflow:Assets written to: saved_model/checkpoint/assets\n"
          ]
        },
        {
          "output_type": "stream",
          "name": "stderr",
          "text": [
            "INFO:tensorflow:Assets written to: saved_model/checkpoint/assets\n"
          ]
        },
        {
          "output_type": "stream",
          "name": "stdout",
          "text": [
            "58/58 [==============================] - 1s 25ms/step - loss: 0.4222 - accuracy: 0.8917 - val_loss: 0.3620 - val_accuracy: 0.9097\n",
            "Epoch 12/30\n",
            "58/58 [==============================] - ETA: 0s - loss: 0.3868 - accuracy: 0.8998INFO:tensorflow:Assets written to: saved_model/checkpoint/assets\n"
          ]
        },
        {
          "output_type": "stream",
          "name": "stderr",
          "text": [
            "INFO:tensorflow:Assets written to: saved_model/checkpoint/assets\n"
          ]
        },
        {
          "output_type": "stream",
          "name": "stdout",
          "text": [
            "58/58 [==============================] - 1s 24ms/step - loss: 0.3868 - accuracy: 0.8998 - val_loss: 0.3501 - val_accuracy: 0.9167\n",
            "Epoch 13/30\n",
            "58/58 [==============================] - 1s 17ms/step - loss: 0.3822 - accuracy: 0.9009 - val_loss: 0.3514 - val_accuracy: 0.9167\n",
            "Epoch 14/30\n",
            "56/58 [===========================>..] - ETA: 0s - loss: 0.4056 - accuracy: 0.8845INFO:tensorflow:Assets written to: saved_model/checkpoint/assets\n"
          ]
        },
        {
          "output_type": "stream",
          "name": "stderr",
          "text": [
            "INFO:tensorflow:Assets written to: saved_model/checkpoint/assets\n"
          ]
        },
        {
          "output_type": "stream",
          "name": "stdout",
          "text": [
            "58/58 [==============================] - 2s 26ms/step - loss: 0.4083 - accuracy: 0.8842 - val_loss: 0.3383 - val_accuracy: 0.9132\n",
            "Epoch 15/30\n",
            "57/58 [============================>.] - ETA: 0s - loss: 0.3903 - accuracy: 0.8997INFO:tensorflow:Assets written to: saved_model/checkpoint/assets\n"
          ]
        },
        {
          "output_type": "stream",
          "name": "stderr",
          "text": [
            "INFO:tensorflow:Assets written to: saved_model/checkpoint/assets\n"
          ]
        },
        {
          "output_type": "stream",
          "name": "stdout",
          "text": [
            "58/58 [==============================] - 1s 25ms/step - loss: 0.3887 - accuracy: 0.8998 - val_loss: 0.3320 - val_accuracy: 0.9236\n",
            "Epoch 16/30\n",
            "57/58 [============================>.] - ETA: 0s - loss: 0.3840 - accuracy: 0.8953INFO:tensorflow:Assets written to: saved_model/checkpoint/assets\n"
          ]
        },
        {
          "output_type": "stream",
          "name": "stderr",
          "text": [
            "INFO:tensorflow:Assets written to: saved_model/checkpoint/assets\n"
          ]
        },
        {
          "output_type": "stream",
          "name": "stdout",
          "text": [
            "58/58 [==============================] - 1s 26ms/step - loss: 0.3817 - accuracy: 0.8960 - val_loss: 0.3157 - val_accuracy: 0.9201\n",
            "Epoch 17/30\n",
            "58/58 [==============================] - 1s 17ms/step - loss: 0.3999 - accuracy: 0.8928 - val_loss: 0.3200 - val_accuracy: 0.9306\n",
            "Epoch 18/30\n",
            "56/58 [===========================>..] - ETA: 0s - loss: 0.3485 - accuracy: 0.9012INFO:tensorflow:Assets written to: saved_model/checkpoint/assets\n"
          ]
        },
        {
          "output_type": "stream",
          "name": "stderr",
          "text": [
            "INFO:tensorflow:Assets written to: saved_model/checkpoint/assets\n"
          ]
        },
        {
          "output_type": "stream",
          "name": "stdout",
          "text": [
            "58/58 [==============================] - 1s 26ms/step - loss: 0.3475 - accuracy: 0.9019 - val_loss: 0.3141 - val_accuracy: 0.9236\n",
            "Epoch 19/30\n",
            "56/58 [===========================>..] - ETA: 0s - loss: 0.3676 - accuracy: 0.9046INFO:tensorflow:Assets written to: saved_model/checkpoint/assets\n"
          ]
        },
        {
          "output_type": "stream",
          "name": "stderr",
          "text": [
            "INFO:tensorflow:Assets written to: saved_model/checkpoint/assets\n"
          ]
        },
        {
          "output_type": "stream",
          "name": "stdout",
          "text": [
            "58/58 [==============================] - 1s 26ms/step - loss: 0.3685 - accuracy: 0.9036 - val_loss: 0.3134 - val_accuracy: 0.9236\n",
            "Epoch 20/30\n",
            "57/58 [============================>.] - ETA: 0s - loss: 0.3584 - accuracy: 0.8991INFO:tensorflow:Assets written to: saved_model/checkpoint/assets\n"
          ]
        },
        {
          "output_type": "stream",
          "name": "stderr",
          "text": [
            "INFO:tensorflow:Assets written to: saved_model/checkpoint/assets\n"
          ]
        },
        {
          "output_type": "stream",
          "name": "stdout",
          "text": [
            "58/58 [==============================] - 38s 670ms/step - loss: 0.3565 - accuracy: 0.8998 - val_loss: 0.3128 - val_accuracy: 0.9271\n",
            "Epoch 21/30\n",
            "57/58 [============================>.] - ETA: 0s - loss: 0.3624 - accuracy: 0.9068INFO:tensorflow:Assets written to: saved_model/checkpoint/assets\n"
          ]
        },
        {
          "output_type": "stream",
          "name": "stderr",
          "text": [
            "INFO:tensorflow:Assets written to: saved_model/checkpoint/assets\n"
          ]
        },
        {
          "output_type": "stream",
          "name": "stdout",
          "text": [
            "58/58 [==============================] - 1s 26ms/step - loss: 0.3605 - accuracy: 0.9068 - val_loss: 0.3003 - val_accuracy: 0.9236\n",
            "Epoch 22/30\n",
            "55/58 [===========================>..] - ETA: 0s - loss: 0.3615 - accuracy: 0.8926INFO:tensorflow:Assets written to: saved_model/checkpoint/assets\n"
          ]
        },
        {
          "output_type": "stream",
          "name": "stderr",
          "text": [
            "INFO:tensorflow:Assets written to: saved_model/checkpoint/assets\n"
          ]
        },
        {
          "output_type": "stream",
          "name": "stdout",
          "text": [
            "58/58 [==============================] - 1s 25ms/step - loss: 0.3594 - accuracy: 0.8933 - val_loss: 0.2976 - val_accuracy: 0.9201\n",
            "Epoch 23/30\n",
            "58/58 [==============================] - ETA: 0s - loss: 0.3698 - accuracy: 0.8912INFO:tensorflow:Assets written to: saved_model/checkpoint/assets\n"
          ]
        },
        {
          "output_type": "stream",
          "name": "stderr",
          "text": [
            "INFO:tensorflow:Assets written to: saved_model/checkpoint/assets\n"
          ]
        },
        {
          "output_type": "stream",
          "name": "stdout",
          "text": [
            "58/58 [==============================] - 1s 24ms/step - loss: 0.3698 - accuracy: 0.8912 - val_loss: 0.2964 - val_accuracy: 0.9271\n",
            "Epoch 24/30\n",
            "57/58 [============================>.] - ETA: 0s - loss: 0.3158 - accuracy: 0.9112INFO:tensorflow:Assets written to: saved_model/checkpoint/assets\n"
          ]
        },
        {
          "output_type": "stream",
          "name": "stderr",
          "text": [
            "INFO:tensorflow:Assets written to: saved_model/checkpoint/assets\n"
          ]
        },
        {
          "output_type": "stream",
          "name": "stdout",
          "text": [
            "58/58 [==============================] - 1s 25ms/step - loss: 0.3219 - accuracy: 0.9106 - val_loss: 0.2885 - val_accuracy: 0.9271\n",
            "Epoch 25/30\n",
            "57/58 [============================>.] - ETA: 0s - loss: 0.3483 - accuracy: 0.9090INFO:tensorflow:Assets written to: saved_model/checkpoint/assets\n"
          ]
        },
        {
          "output_type": "stream",
          "name": "stderr",
          "text": [
            "INFO:tensorflow:Assets written to: saved_model/checkpoint/assets\n"
          ]
        },
        {
          "output_type": "stream",
          "name": "stdout",
          "text": [
            "58/58 [==============================] - 1s 25ms/step - loss: 0.3474 - accuracy: 0.9089 - val_loss: 0.2838 - val_accuracy: 0.9306\n",
            "Epoch 26/30\n",
            "58/58 [==============================] - 1s 16ms/step - loss: 0.3637 - accuracy: 0.9030 - val_loss: 0.2914 - val_accuracy: 0.9306\n",
            "Epoch 27/30\n",
            "58/58 [==============================] - 1s 17ms/step - loss: 0.3274 - accuracy: 0.9019 - val_loss: 0.2927 - val_accuracy: 0.9306\n",
            "Epoch 28/30\n",
            "58/58 [==============================] - 1s 16ms/step - loss: 0.3337 - accuracy: 0.9116 - val_loss: 0.2894 - val_accuracy: 0.9340\n",
            "Epoch 29/30\n",
            "57/58 [============================>.] - ETA: 0s - loss: 0.3453 - accuracy: 0.9041INFO:tensorflow:Assets written to: saved_model/checkpoint/assets\n"
          ]
        },
        {
          "output_type": "stream",
          "name": "stderr",
          "text": [
            "INFO:tensorflow:Assets written to: saved_model/checkpoint/assets\n"
          ]
        },
        {
          "output_type": "stream",
          "name": "stdout",
          "text": [
            "58/58 [==============================] - 1s 24ms/step - loss: 0.3424 - accuracy: 0.9046 - val_loss: 0.2819 - val_accuracy: 0.9306\n",
            "Epoch 30/30\n",
            "57/58 [============================>.] - ETA: 0s - loss: 0.3311 - accuracy: 0.9035INFO:tensorflow:Assets written to: saved_model/checkpoint/assets\n"
          ]
        },
        {
          "output_type": "stream",
          "name": "stderr",
          "text": [
            "INFO:tensorflow:Assets written to: saved_model/checkpoint/assets\n"
          ]
        },
        {
          "output_type": "stream",
          "name": "stdout",
          "text": [
            "\b\b\b\b\b\b\b\b\b\b\b\b\b\b\b\b\b\b\b\b\b\b\b\b\b\b\b\b\b\b\b\b\b\b\b\b\b\b\b\b\b\b\b\b\b\b\b\b\b\b\b\b\b\b\b\b\b\b\b\b\b\b\b\b\b\b\b\b\b\b\b\b\b\b\b\b\b\b\b\b\b\b\r58/58 [==============================] - 1s 26ms/step - loss: 0.3298 - accuracy: 0.9041 - val_loss: 0.2807 - val_accuracy: 0.9236\n"
          ]
        }
      ]
    },
    {
      "cell_type": "code",
      "source": [
        "plot_loss_curve(history_0)"
      ],
      "metadata": {
        "colab": {
          "base_uri": "https://localhost:8080/",
          "height": 483
        },
        "id": "0ODTvYaTxJAd",
        "outputId": "927dd140-65a5-4963-de68-75b92c0e737a"
      },
      "execution_count": 74,
      "outputs": [
        {
          "output_type": "display_data",
          "data": {
            "image/png": "[encoded data removed]",
            "text/plain": [
              "<Figure size 1152x576 with 2 Axes>"
            ]
          },
          "metadata": {
            "needs_background": "light"
          }
        }
      ]
    },
    {
      "cell_type": "code",
      "source": [
        "loaded_model = tf.keras.models.load_model(FILEPATH)"
      ],
      "metadata": {
        "id": "ljwZVlL5zdfP"
      },
      "execution_count": 81,
      "outputs": []
    },
    {
      "cell_type": "code",
      "source": [
        "loaded_model.evaluate(test_ds)"
      ],
      "metadata": {
        "colab": {
          "base_uri": "https://localhost:8080/"
        },
        "id": "yP2Y-nVizoK4",
        "outputId": "cbac7642-4d20-4c26-b297-b7ac923fe98e"
      },
      "execution_count": 82,
      "outputs": [
        {
          "output_type": "stream",
          "name": "stdout",
          "text": [
            "313/313 [==============================] - 1s 2ms/step - loss: 0.3108 - accuracy: 0.9147\n"
          ]
        },
        {
          "output_type": "execute_result",
          "data": {
            "text/plain": [
              "[0.3107687532901764, 0.9146999716758728]"
            ]
          },
          "metadata": {},
          "execution_count": 82
        }
      ]
    },
    {
      "cell_type": "markdown",
      "source": [
        "## Model 1 - Adding VGG block"
      ],
      "metadata": {
        "id": "sncxjaHr5YCl"
      }
    },
    {
      "cell_type": "code",
      "source": [
        "FILTERS = 3\n",
        "model_1 = tf.keras.Sequential([\n",
        "                               tf.keras.layers.Conv2D(FILTERS, (3,3), input_shape = (28,28,1), activation = 'relu'),\n",
        "                               tf.keras.layers.Conv2D(FILTERS, (3,3), activation = 'relu'),\n",
        "                               tf.keras.layers.MaxPool2D(),\n",
        "                               tf.keras.layers.Dropout(0.1),\n",
        "                               tf.keras.layers.BatchNormalization(),\n",
        "                               tf.keras.layers.Flatten(),\n",
        "                               tf.keras.layers.Dense(10 , activation = 'softmax')\n",
        "])"
      ],
      "metadata": {
        "id": "eNuNXWVf7xpz"
      },
      "execution_count": 83,
      "outputs": []
    },
    {
      "cell_type": "code",
      "source": [
        "model_1.compile(loss = tf.keras.losses.SparseCategoricalCrossentropy(),\n",
        "                optimizer = tf.keras.optimizers.Adam(),\n",
        "                metrics = ['accuracy'],\n",
        "                run_eagerly = True)"
      ],
      "metadata": {
        "id": "M0DJONpO8yHP"
      },
      "execution_count": 84,
      "outputs": []
    },
    {
      "cell_type": "code",
      "source": [
        "history_1 = model_1.fit(train_ds,\n",
        "                      steps_per_epoch = len(train_ds)//BATCH_SIZE,\n",
        "                      epochs = 30,\n",
        "                      validation_data = test_ds,\n",
        "                      validation_steps = len(test_ds)//BATCH_SIZE,\n",
        "                      callbacks = [tf.keras.callbacks.ModelCheckpoint(FILEPATH,\n",
        "                                                                      save_best_only = True)]\n",
        "                      )"
      ],
      "metadata": {
        "colab": {
          "base_uri": "https://localhost:8080/"
        },
        "id": "32J8mWu18-e2",
        "outputId": "cc5f621e-0cdc-42e8-f76b-7f3526ca949c"
      },
      "execution_count": 85,
      "outputs": [
        {
          "output_type": "stream",
          "name": "stdout",
          "text": [
            "Epoch 1/30\n",
            "57/58 [============================>.] - ETA: 0s - loss: 1.8455 - accuracy: 0.3684INFO:tensorflow:Assets written to: saved_model/checkpoint/assets\n"
          ]
        },
        {
          "output_type": "stream",
          "name": "stderr",
          "text": [
            "INFO:tensorflow:Assets written to: saved_model/checkpoint/assets\n"
          ]
        },
        {
          "output_type": "stream",
          "name": "stdout",
          "text": [
            "58/58 [==============================] - 4s 62ms/step - loss: 1.8296 - accuracy: 0.3739 - val_loss: 1.7440 - val_accuracy: 0.5833\n",
            "Epoch 2/30\n",
            "58/58 [==============================] - ETA: 0s - loss: 0.8023 - accuracy: 0.7543INFO:tensorflow:Assets written to: saved_model/checkpoint/assets\n"
          ]
        },
        {
          "output_type": "stream",
          "name": "stderr",
          "text": [
            "INFO:tensorflow:Assets written to: saved_model/checkpoint/assets\n"
          ]
        },
        {
          "output_type": "stream",
          "name": "stdout",
          "text": [
            "58/58 [==============================] - 7s 129ms/step - loss: 0.8023 - accuracy: 0.7543 - val_loss: 1.1928 - val_accuracy: 0.7951\n",
            "Epoch 3/30\n",
            "58/58 [==============================] - ETA: 0s - loss: 0.5547 - accuracy: 0.8367INFO:tensorflow:Assets written to: saved_model/checkpoint/assets\n"
          ]
        },
        {
          "output_type": "stream",
          "name": "stderr",
          "text": [
            "INFO:tensorflow:Assets written to: saved_model/checkpoint/assets\n"
          ]
        },
        {
          "output_type": "stream",
          "name": "stdout",
          "text": [
            "58/58 [==============================] - 7s 116ms/step - loss: 0.5547 - accuracy: 0.8367 - val_loss: 0.8369 - val_accuracy: 0.8368\n",
            "Epoch 4/30\n",
            "58/58 [==============================] - ETA: 0s - loss: 0.4399 - accuracy: 0.8648INFO:tensorflow:Assets written to: saved_model/checkpoint/assets\n"
          ]
        },
        {
          "output_type": "stream",
          "name": "stderr",
          "text": [
            "INFO:tensorflow:Assets written to: saved_model/checkpoint/assets\n"
          ]
        },
        {
          "output_type": "stream",
          "name": "stdout",
          "text": [
            "58/58 [==============================] - 6s 107ms/step - loss: 0.4399 - accuracy: 0.8648 - val_loss: 0.5867 - val_accuracy: 0.8819\n",
            "Epoch 5/30\n",
            "58/58 [==============================] - ETA: 0s - loss: 0.3908 - accuracy: 0.8858INFO:tensorflow:Assets written to: saved_model/checkpoint/assets\n"
          ]
        },
        {
          "output_type": "stream",
          "name": "stderr",
          "text": [
            "INFO:tensorflow:Assets written to: saved_model/checkpoint/assets\n"
          ]
        },
        {
          "output_type": "stream",
          "name": "stdout",
          "text": [
            "58/58 [==============================] - 6s 102ms/step - loss: 0.3908 - accuracy: 0.8858 - val_loss: 0.4396 - val_accuracy: 0.8993\n",
            "Epoch 6/30\n",
            "57/58 [============================>.] - ETA: 0s - loss: 0.3138 - accuracy: 0.9090INFO:tensorflow:Assets written to: saved_model/checkpoint/assets\n"
          ]
        },
        {
          "output_type": "stream",
          "name": "stderr",
          "text": [
            "INFO:tensorflow:Assets written to: saved_model/checkpoint/assets\n"
          ]
        },
        {
          "output_type": "stream",
          "name": "stdout",
          "text": [
            "58/58 [==============================] - 5s 79ms/step - loss: 0.3178 - accuracy: 0.9073 - val_loss: 0.3370 - val_accuracy: 0.9167\n",
            "Epoch 7/30\n",
            "58/58 [==============================] - ETA: 0s - loss: 0.3193 - accuracy: 0.9025INFO:tensorflow:Assets written to: saved_model/checkpoint/assets\n"
          ]
        },
        {
          "output_type": "stream",
          "name": "stderr",
          "text": [
            "INFO:tensorflow:Assets written to: saved_model/checkpoint/assets\n"
          ]
        },
        {
          "output_type": "stream",
          "name": "stdout",
          "text": [
            "58/58 [==============================] - 6s 111ms/step - loss: 0.3193 - accuracy: 0.9025 - val_loss: 0.2835 - val_accuracy: 0.9201\n",
            "Epoch 8/30\n",
            "57/58 [============================>.] - ETA: 0s - loss: 0.2996 - accuracy: 0.9106INFO:tensorflow:Assets written to: saved_model/checkpoint/assets\n"
          ]
        },
        {
          "output_type": "stream",
          "name": "stderr",
          "text": [
            "INFO:tensorflow:Assets written to: saved_model/checkpoint/assets\n"
          ]
        },
        {
          "output_type": "stream",
          "name": "stdout",
          "text": [
            "58/58 [==============================] - 4s 70ms/step - loss: 0.2985 - accuracy: 0.9111 - val_loss: 0.2498 - val_accuracy: 0.9201\n",
            "Epoch 9/30\n",
            "57/58 [============================>.] - ETA: 0s - loss: 0.2730 - accuracy: 0.9161INFO:tensorflow:Assets written to: saved_model/checkpoint/assets\n"
          ]
        },
        {
          "output_type": "stream",
          "name": "stderr",
          "text": [
            "INFO:tensorflow:Assets written to: saved_model/checkpoint/assets\n"
          ]
        },
        {
          "output_type": "stream",
          "name": "stdout",
          "text": [
            "58/58 [==============================] - 4s 61ms/step - loss: 0.2706 - accuracy: 0.9165 - val_loss: 0.2185 - val_accuracy: 0.9306\n",
            "Epoch 10/30\n",
            "57/58 [============================>.] - ETA: 0s - loss: 0.2615 - accuracy: 0.9128INFO:tensorflow:Assets written to: saved_model/checkpoint/assets\n"
          ]
        },
        {
          "output_type": "stream",
          "name": "stderr",
          "text": [
            "INFO:tensorflow:Assets written to: saved_model/checkpoint/assets\n"
          ]
        },
        {
          "output_type": "stream",
          "name": "stdout",
          "text": [
            "58/58 [==============================] - 4s 63ms/step - loss: 0.2640 - accuracy: 0.9122 - val_loss: 0.1896 - val_accuracy: 0.9444\n",
            "Epoch 11/30\n",
            "57/58 [============================>.] - ETA: 0s - loss: 0.2200 - accuracy: 0.9298INFO:tensorflow:Assets written to: saved_model/checkpoint/assets\n"
          ]
        },
        {
          "output_type": "stream",
          "name": "stderr",
          "text": [
            "INFO:tensorflow:Assets written to: saved_model/checkpoint/assets\n"
          ]
        },
        {
          "output_type": "stream",
          "name": "stdout",
          "text": [
            "58/58 [==============================] - 4s 64ms/step - loss: 0.2179 - accuracy: 0.9305 - val_loss: 0.1886 - val_accuracy: 0.9444\n",
            "Epoch 12/30\n",
            "57/58 [============================>.] - ETA: 0s - loss: 0.2609 - accuracy: 0.9216INFO:tensorflow:Assets written to: saved_model/checkpoint/assets\n"
          ]
        },
        {
          "output_type": "stream",
          "name": "stderr",
          "text": [
            "INFO:tensorflow:Assets written to: saved_model/checkpoint/assets\n"
          ]
        },
        {
          "output_type": "stream",
          "name": "stdout",
          "text": [
            "58/58 [==============================] - 4s 62ms/step - loss: 0.2658 - accuracy: 0.9208 - val_loss: 0.1796 - val_accuracy: 0.9410\n",
            "Epoch 13/30\n",
            "57/58 [============================>.] - ETA: 0s - loss: 0.2361 - accuracy: 0.9260INFO:tensorflow:Assets written to: saved_model/checkpoint/assets\n"
          ]
        },
        {
          "output_type": "stream",
          "name": "stderr",
          "text": [
            "INFO:tensorflow:Assets written to: saved_model/checkpoint/assets\n"
          ]
        },
        {
          "output_type": "stream",
          "name": "stdout",
          "text": [
            "58/58 [==============================] - 4s 62ms/step - loss: 0.2337 - accuracy: 0.9267 - val_loss: 0.1679 - val_accuracy: 0.9514\n",
            "Epoch 14/30\n",
            "57/58 [============================>.] - ETA: 0s - loss: 0.2330 - accuracy: 0.9326INFO:tensorflow:Assets written to: saved_model/checkpoint/assets\n"
          ]
        },
        {
          "output_type": "stream",
          "name": "stderr",
          "text": [
            "INFO:tensorflow:Assets written to: saved_model/checkpoint/assets\n"
          ]
        },
        {
          "output_type": "stream",
          "name": "stdout",
          "text": [
            "58/58 [==============================] - 4s 67ms/step - loss: 0.2318 - accuracy: 0.9332 - val_loss: 0.1635 - val_accuracy: 0.9479\n",
            "Epoch 15/30\n",
            "58/58 [==============================] - ETA: 0s - loss: 0.2316 - accuracy: 0.9337INFO:tensorflow:Assets written to: saved_model/checkpoint/assets\n"
          ]
        },
        {
          "output_type": "stream",
          "name": "stderr",
          "text": [
            "INFO:tensorflow:Assets written to: saved_model/checkpoint/assets\n"
          ]
        },
        {
          "output_type": "stream",
          "name": "stdout",
          "text": [
            "58/58 [==============================] - 4s 61ms/step - loss: 0.2316 - accuracy: 0.9337 - val_loss: 0.1554 - val_accuracy: 0.9514\n",
            "Epoch 16/30\n",
            "58/58 [==============================] - ETA: 0s - loss: 0.2414 - accuracy: 0.9197INFO:tensorflow:Assets written to: saved_model/checkpoint/assets\n"
          ]
        },
        {
          "output_type": "stream",
          "name": "stderr",
          "text": [
            "INFO:tensorflow:Assets written to: saved_model/checkpoint/assets\n"
          ]
        },
        {
          "output_type": "stream",
          "name": "stdout",
          "text": [
            "58/58 [==============================] - 4s 62ms/step - loss: 0.2414 - accuracy: 0.9197 - val_loss: 0.1545 - val_accuracy: 0.9410\n",
            "Epoch 17/30\n",
            "57/58 [============================>.] - ETA: 0s - loss: 0.2209 - accuracy: 0.9309INFO:tensorflow:Assets written to: saved_model/checkpoint/assets\n"
          ]
        },
        {
          "output_type": "stream",
          "name": "stderr",
          "text": [
            "INFO:tensorflow:Assets written to: saved_model/checkpoint/assets\n"
          ]
        },
        {
          "output_type": "stream",
          "name": "stdout",
          "text": [
            "58/58 [==============================] - 4s 65ms/step - loss: 0.2186 - accuracy: 0.9310 - val_loss: 0.1519 - val_accuracy: 0.9514\n",
            "Epoch 18/30\n",
            "58/58 [==============================] - 2s 40ms/step - loss: 0.1895 - accuracy: 0.9413 - val_loss: 0.1543 - val_accuracy: 0.9479\n",
            "Epoch 19/30\n",
            "57/58 [============================>.] - ETA: 0s - loss: 0.2014 - accuracy: 0.9337INFO:tensorflow:Assets written to: saved_model/checkpoint/assets\n"
          ]
        },
        {
          "output_type": "stream",
          "name": "stderr",
          "text": [
            "INFO:tensorflow:Assets written to: saved_model/checkpoint/assets\n"
          ]
        },
        {
          "output_type": "stream",
          "name": "stdout",
          "text": [
            "58/58 [==============================] - 3s 60ms/step - loss: 0.2023 - accuracy: 0.9337 - val_loss: 0.1489 - val_accuracy: 0.9479\n",
            "Epoch 20/30\n",
            "58/58 [==============================] - ETA: 0s - loss: 0.2076 - accuracy: 0.9353INFO:tensorflow:Assets written to: saved_model/checkpoint/assets\n"
          ]
        },
        {
          "output_type": "stream",
          "name": "stderr",
          "text": [
            "INFO:tensorflow:Assets written to: saved_model/checkpoint/assets\n"
          ]
        },
        {
          "output_type": "stream",
          "name": "stdout",
          "text": [
            "58/58 [==============================] - 4s 66ms/step - loss: 0.2076 - accuracy: 0.9353 - val_loss: 0.1380 - val_accuracy: 0.9549\n",
            "Epoch 21/30\n",
            "58/58 [==============================] - 2s 41ms/step - loss: 0.1948 - accuracy: 0.9391 - val_loss: 0.1454 - val_accuracy: 0.9549\n",
            "Epoch 22/30\n",
            "58/58 [==============================] - 2s 41ms/step - loss: 0.2179 - accuracy: 0.9321 - val_loss: 0.1600 - val_accuracy: 0.9514\n",
            "Epoch 23/30\n",
            "57/58 [============================>.] - ETA: 0s - loss: 0.1874 - accuracy: 0.9419INFO:tensorflow:Assets written to: saved_model/checkpoint/assets\n"
          ]
        },
        {
          "output_type": "stream",
          "name": "stderr",
          "text": [
            "INFO:tensorflow:Assets written to: saved_model/checkpoint/assets\n"
          ]
        },
        {
          "output_type": "stream",
          "name": "stdout",
          "text": [
            "58/58 [==============================] - 4s 63ms/step - loss: 0.1903 - accuracy: 0.9413 - val_loss: 0.1243 - val_accuracy: 0.9653\n",
            "Epoch 24/30\n",
            "58/58 [==============================] - 2s 43ms/step - loss: 0.1710 - accuracy: 0.9520 - val_loss: 0.1266 - val_accuracy: 0.9583\n",
            "Epoch 25/30\n",
            "58/58 [==============================] - 2s 40ms/step - loss: 0.1961 - accuracy: 0.9423 - val_loss: 0.1295 - val_accuracy: 0.9618\n",
            "Epoch 26/30\n",
            "57/58 [============================>.] - ETA: 0s - loss: 0.1989 - accuracy: 0.9315INFO:tensorflow:Assets written to: saved_model/checkpoint/assets\n"
          ]
        },
        {
          "output_type": "stream",
          "name": "stderr",
          "text": [
            "INFO:tensorflow:Assets written to: saved_model/checkpoint/assets\n"
          ]
        },
        {
          "output_type": "stream",
          "name": "stdout",
          "text": [
            "58/58 [==============================] - 3s 61ms/step - loss: 0.1968 - accuracy: 0.9327 - val_loss: 0.1218 - val_accuracy: 0.9549\n",
            "Epoch 27/30\n",
            "58/58 [==============================] - 2s 39ms/step - loss: 0.1713 - accuracy: 0.9440 - val_loss: 0.1312 - val_accuracy: 0.9653\n",
            "Epoch 28/30\n",
            "58/58 [==============================] - 2s 39ms/step - loss: 0.1864 - accuracy: 0.9483 - val_loss: 0.1231 - val_accuracy: 0.9583\n",
            "Epoch 29/30\n",
            "58/58 [==============================] - 2s 42ms/step - loss: 0.1768 - accuracy: 0.9483 - val_loss: 0.1241 - val_accuracy: 0.9688\n",
            "Epoch 30/30\n",
            "58/58 [==============================] - 2s 40ms/step - loss: 0.1478 - accuracy: 0.9531 - val_loss: 0.1683 - val_accuracy: 0.9479\n"
          ]
        }
      ]
    },
    {
      "cell_type": "code",
      "source": [
        "plot_loss_curve(history_1)"
      ],
      "metadata": {
        "colab": {
          "base_uri": "https://localhost:8080/",
          "height": 483
        },
        "id": "lg0qsYXDNlUL",
        "outputId": "0cf1ebc6-a0e8-446e-beb0-c5339bc79bdb"
      },
      "execution_count": 88,
      "outputs": [
        {
          "output_type": "display_data",
          "data": {
            "image/png": "[encoded data removed]",
            "text/plain": [
              "<Figure size 1152x576 with 2 Axes>"
            ]
          },
          "metadata": {
            "needs_background": "light"
          }
        }
      ]
    },
    {
      "cell_type": "code",
      "source": [
        "loaded_model = tf.keras.models.load_model(FILEPATH)"
      ],
      "metadata": {
        "id": "mW6R4lx0yx8d"
      },
      "execution_count": 89,
      "outputs": []
    },
    {
      "cell_type": "code",
      "source": [
        "loaded_model.evaluate(test_ds)"
      ],
      "metadata": {
        "colab": {
          "base_uri": "https://localhost:8080/"
        },
        "id": "nvjxr4fnwpR0",
        "outputId": "c086950c-a51b-4bd1-91cf-0f19f8dc6234"
      },
      "execution_count": 90,
      "outputs": [
        {
          "output_type": "stream",
          "name": "stdout",
          "text": [
            "313/313 [==============================] - 3s 9ms/step - loss: 0.1439 - accuracy: 0.9578\n"
          ]
        },
        {
          "output_type": "execute_result",
          "data": {
            "text/plain": [
              "[0.143876850605011, 0.9577999711036682]"
            ]
          },
          "metadata": {},
          "execution_count": 90
        }
      ]
    },
    {
      "cell_type": "code",
      "source": [
        "prediction_probs = loaded_model.predict(test_ds)"
      ],
      "metadata": {
        "id": "vmOBXLeU0hQR"
      },
      "execution_count": 103,
      "outputs": []
    },
    {
      "cell_type": "code",
      "source": [
        "tf.math.reduce_max(prediction_probs , axis = 1).numpy()"
      ],
      "metadata": {
        "colab": {
          "base_uri": "https://localhost:8080/"
        },
        "id": "VXGTSfPC4Po9",
        "outputId": "0d807f55-2ade-4e13-95a3-290500ccd036"
      },
      "execution_count": 125,
      "outputs": [
        {
          "output_type": "execute_result",
          "data": {
            "text/plain": [
              "array([0.99586535, 0.9991129 , 0.99991333, ..., 0.988157  , 0.9994248 ,\n",
              "       0.99878365], dtype=float32)"
            ]
          },
          "metadata": {},
          "execution_count": 125
        }
      ]
    },
    {
      "cell_type": "code",
      "source": [
        "predictions = tf.math.argmax(prediction_probs, axis = 1).numpy()"
      ],
      "metadata": {
        "id": "TULY8Zkc2DM7"
      },
      "execution_count": 104,
      "outputs": []
    },
    {
      "cell_type": "code",
      "source": [
        "image_list = []\n",
        "label_list = []\n",
        "for image , label in tfds.as_numpy(ds_test):\n",
        "  image_list.append(tf.squeeze(image))\n",
        "  label_list.append(label)"
      ],
      "metadata": {
        "id": "ptfFjjzN2FLA"
      },
      "execution_count": 117,
      "outputs": []
    },
    {
      "cell_type": "code",
      "source": [
        "pred_df = pd.DataFrame({'image':image_list,\n",
        "                        'label':label_list,\n",
        "                        'preds':predictions,\n",
        "                        'pred_probs':tf.math.reduce_max(prediction_probs , axis = 1).numpy()})"
      ],
      "metadata": {
        "id": "q_VS91Hw2aAo"
      },
      "execution_count": 126,
      "outputs": []
    },
    {
      "cell_type": "code",
      "source": [
        "pred_df['correct'] = pred_df['label'] == pred_df['preds']"
      ],
      "metadata": {
        "id": "xGh_fIP_3Ihm"
      },
      "execution_count": 128,
      "outputs": []
    },
    {
      "cell_type": "code",
      "source": [
        "mask = pred_df['correct'] == False\n",
        "worst_preds = pred_df[mask].sort_values(by = 'pred_probs' , ascending = False).head(100)"
      ],
      "metadata": {
        "id": "UWDR0BAn3WHx"
      },
      "execution_count": 133,
      "outputs": []
    },
    {
      "cell_type": "code",
      "source": [
        "worst_preds"
      ],
      "metadata": {
        "colab": {
          "base_uri": "https://localhost:8080/",
          "height": 423
        },
        "id": "CBYW7Au349g0",
        "outputId": "f5cddb93-a652-455c-8b28-8d11fed71ade"
      },
      "execution_count": 134,
      "outputs": [
        {
          "output_type": "execute_result",
          "data": {
            "text/html": [
              "\n",
              "  <div id=\"df-39690954-3407-4df8-bb85-7942bc5f8cad\">\n",
              "    <div class=\"colab-df-container\">\n",
              "      <div>\n",
              "<style scoped>\n",
              "    .dataframe tbody tr th:only-of-type {\n",
              "        vertical-align: middle;\n",
              "    }\n",
              "\n",
              "    .dataframe tbody tr th {\n",
              "        vertical-align: top;\n",
              "    }\n",
              "\n",
              "    .dataframe thead th {\n",
              "        text-align: right;\n",
              "    }\n",
              "</style>\n",
              "<table border=\"1\" class=\"dataframe\">\n",
              "  <thead>\n",
              "    <tr style=\"text-align: right;\">\n",
              "      <th></th>\n",
              "      <th>image</th>\n",
              "      <th>label</th>\n",
              "      <th>preds</th>\n",
              "      <th>pred_probs</th>\n",
              "      <th>correct</th>\n",
              "    </tr>\n",
              "  </thead>\n",
              "  <tbody>\n",
              "    <tr>\n",
              "      <th>4716</th>\n",
              "      <td>((tf.Tensor(0, shape=(), dtype=uint8), tf.Tens...</td>\n",
              "      <td>8</td>\n",
              "      <td>4</td>\n",
              "      <td>0.998275</td>\n",
              "      <td>False</td>\n",
              "    </tr>\n",
              "    <tr>\n",
              "      <th>9186</th>\n",
              "      <td>((tf.Tensor(0, shape=(), dtype=uint8), tf.Tens...</td>\n",
              "      <td>5</td>\n",
              "      <td>0</td>\n",
              "      <td>0.994322</td>\n",
              "      <td>False</td>\n",
              "    </tr>\n",
              "    <tr>\n",
              "      <th>3119</th>\n",
              "      <td>((tf.Tensor(0, shape=(), dtype=uint8), tf.Tens...</td>\n",
              "      <td>8</td>\n",
              "      <td>4</td>\n",
              "      <td>0.993248</td>\n",
              "      <td>False</td>\n",
              "    </tr>\n",
              "    <tr>\n",
              "      <th>372</th>\n",
              "      <td>((tf.Tensor(0, shape=(), dtype=uint8), tf.Tens...</td>\n",
              "      <td>2</td>\n",
              "      <td>7</td>\n",
              "      <td>0.990920</td>\n",
              "      <td>False</td>\n",
              "    </tr>\n",
              "    <tr>\n",
              "      <th>924</th>\n",
              "      <td>((tf.Tensor(0, shape=(), dtype=uint8), tf.Tens...</td>\n",
              "      <td>3</td>\n",
              "      <td>7</td>\n",
              "      <td>0.989251</td>\n",
              "      <td>False</td>\n",
              "    </tr>\n",
              "    <tr>\n",
              "      <th>...</th>\n",
              "      <td>...</td>\n",
              "      <td>...</td>\n",
              "      <td>...</td>\n",
              "      <td>...</td>\n",
              "      <td>...</td>\n",
              "    </tr>\n",
              "    <tr>\n",
              "      <th>6415</th>\n",
              "      <td>((tf.Tensor(0, shape=(), dtype=uint8), tf.Tens...</td>\n",
              "      <td>8</td>\n",
              "      <td>6</td>\n",
              "      <td>0.794646</td>\n",
              "      <td>False</td>\n",
              "    </tr>\n",
              "    <tr>\n",
              "      <th>3795</th>\n",
              "      <td>((tf.Tensor(0, shape=(), dtype=uint8), tf.Tens...</td>\n",
              "      <td>6</td>\n",
              "      <td>5</td>\n",
              "      <td>0.793700</td>\n",
              "      <td>False</td>\n",
              "    </tr>\n",
              "    <tr>\n",
              "      <th>5929</th>\n",
              "      <td>((tf.Tensor(0, shape=(), dtype=uint8), tf.Tens...</td>\n",
              "      <td>4</td>\n",
              "      <td>3</td>\n",
              "      <td>0.791005</td>\n",
              "      <td>False</td>\n",
              "    </tr>\n",
              "    <tr>\n",
              "      <th>8627</th>\n",
              "      <td>((tf.Tensor(0, shape=(), dtype=uint8), tf.Tens...</td>\n",
              "      <td>1</td>\n",
              "      <td>2</td>\n",
              "      <td>0.790757</td>\n",
              "      <td>False</td>\n",
              "    </tr>\n",
              "    <tr>\n",
              "      <th>6861</th>\n",
              "      <td>((tf.Tensor(0, shape=(), dtype=uint8), tf.Tens...</td>\n",
              "      <td>9</td>\n",
              "      <td>7</td>\n",
              "      <td>0.788302</td>\n",
              "      <td>False</td>\n",
              "    </tr>\n",
              "  </tbody>\n",
              "</table>\n",
              "<p>100 rows × 5 columns</p>\n",
              "</div>\n",
              "      <button class=\"colab-df-convert\" onclick=\"convertToInteractive('df-39690954-3407-4df8-bb85-7942bc5f8cad')\"\n",
              "              title=\"Convert this dataframe to an interactive table.\"\n",
              "              style=\"display:none;\">\n",
              "        \n",
              "  <svg xmlns=\"http://www.w3.org/2000/svg\" height=\"24px\"viewBox=\"0 0 24 24\"\n",
              "       width=\"24px\">\n",
              "    <path d=\"M0 0h24v24H0V0z\" fill=\"none\"/>\n",
              "    <path d=\"M18.56 5.44l.94 2.06.94-2.06 2.06-.94-2.06-.94-.94-2.06-.94 2.06-2.06.94zm-11 1L8.5 8.5l.94-2.06 2.06-.94-2.06-.94L8.5 2.5l-.94 2.06-2.06.94zm10 10l.94 2.06.94-2.06 2.06-.94-2.06-.94-.94-2.06-.94 2.06-2.06.94z\"/><path d=\"M17.41 7.96l-1.37-1.37c-.4-.4-.92-.59-1.43-.59-.52 0-1.04.2-1.43.59L10.3 9.45l-7.72 7.72c-.78.78-.78 2.05 0 2.83L4 21.41c.39.39.9.59 1.41.59.51 0 1.02-.2 1.41-.59l7.78-7.78 2.81-2.81c.8-.78.8-2.07 0-2.86zM5.41 20L4 18.59l7.72-7.72 1.47 1.35L5.41 20z\"/>\n",
              "  </svg>\n",
              "      </button>\n",
              "      \n",
              "  <style>\n",
              "    .colab-df-container {\n",
              "      display:flex;\n",
              "      flex-wrap:wrap;\n",
              "      gap: 12px;\n",
              "    }\n",
              "\n",
              "    .colab-df-convert {\n",
              "      background-color: #E8F0FE;\n",
              "      border: none;\n",
              "      border-radius: 50%;\n",
              "      cursor: pointer;\n",
              "      display: none;\n",
              "      fill: #1967D2;\n",
              "      height: 32px;\n",
              "      padding: 0 0 0 0;\n",
              "      width: 32px;\n",
              "    }\n",
              "\n",
              "    .colab-df-convert:hover {\n",
              "      background-color: #E2EBFA;\n",
              "      box-shadow: 0px 1px 2px rgba(60, 64, 67, 0.3), 0px 1px 3px 1px rgba(60, 64, 67, 0.15);\n",
              "      fill: #174EA6;\n",
              "    }\n",
              "\n",
              "    [theme=dark] .colab-df-convert {\n",
              "      background-color: #3B4455;\n",
              "      fill: #D2E3FC;\n",
              "    }\n",
              "\n",
              "    [theme=dark] .colab-df-convert:hover {\n",
              "      background-color: #434B5C;\n",
              "      box-shadow: 0px 1px 3px 1px rgba(0, 0, 0, 0.15);\n",
              "      filter: drop-shadow(0px 1px 2px rgba(0, 0, 0, 0.3));\n",
              "      fill: #FFFFFF;\n",
              "    }\n",
              "  </style>\n",
              "\n",
              "      <script>\n",
              "        const buttonEl =\n",
              "          document.querySelector('#df-39690954-3407-4df8-bb85-7942bc5f8cad button.colab-df-convert');\n",
              "        buttonEl.style.display =\n",
              "          google.colab.kernel.accessAllowed ? 'block' : 'none';\n",
              "\n",
              "        async function convertToInteractive(key) {\n",
              "          const element = document.querySelector('#df-39690954-3407-4df8-bb85-7942bc5f8cad');\n",
              "          const dataTable =\n",
              "            await google.colab.kernel.invokeFunction('convertToInteractive',\n",
              "                                                     [key], {});\n",
              "          if (!dataTable) return;\n",
              "\n",
              "          const docLinkHtml = 'Like what you see? Visit the ' +\n",
              "            '<a target=\"_blank\" href=https://colab.research.google.com/notebooks/data_table.ipynb>data table notebook</a>'\n",
              "            + ' to learn more about interactive tables.';\n",
              "          element.innerHTML = '';\n",
              "          dataTable['output_type'] = 'display_data';\n",
              "          await google.colab.output.renderOutput(dataTable, element);\n",
              "          const docLink = document.createElement('div');\n",
              "          docLink.innerHTML = docLinkHtml;\n",
              "          element.appendChild(docLink);\n",
              "        }\n",
              "      </script>\n",
              "    </div>\n",
              "  </div>\n",
              "  "
            ],
            "text/plain": [
              "                                                  image  ...  correct\n",
              "4716  ((tf.Tensor(0, shape=(), dtype=uint8), tf.Tens...  ...    False\n",
              "9186  ((tf.Tensor(0, shape=(), dtype=uint8), tf.Tens...  ...    False\n",
              "3119  ((tf.Tensor(0, shape=(), dtype=uint8), tf.Tens...  ...    False\n",
              "372   ((tf.Tensor(0, shape=(), dtype=uint8), tf.Tens...  ...    False\n",
              "924   ((tf.Tensor(0, shape=(), dtype=uint8), tf.Tens...  ...    False\n",
              "...                                                 ...  ...      ...\n",
              "6415  ((tf.Tensor(0, shape=(), dtype=uint8), tf.Tens...  ...    False\n",
              "3795  ((tf.Tensor(0, shape=(), dtype=uint8), tf.Tens...  ...    False\n",
              "5929  ((tf.Tensor(0, shape=(), dtype=uint8), tf.Tens...  ...    False\n",
              "8627  ((tf.Tensor(0, shape=(), dtype=uint8), tf.Tens...  ...    False\n",
              "6861  ((tf.Tensor(0, shape=(), dtype=uint8), tf.Tens...  ...    False\n",
              "\n",
              "[100 rows x 5 columns]"
            ]
          },
          "metadata": {},
          "execution_count": 134
        }
      ]
    },
    {
      "cell_type": "code",
      "source": [
        "random_index = random.randint(0,91)\n",
        "\n",
        "plt.figure(figsize = (12,12))\n",
        "for plot_index , df_index  in enumerate(range(random_index,random_index+9),1):\n",
        "  plt.subplot(3,3, plot_index)\n",
        "  plt.title(f\"Predicted label : {worst_preds.iloc[df_index]['preds']}  Actual label : {worst_preds.iloc[df_index]['label']} \\n Probs : {worst_preds.iloc[df_index]['pred_probs']}\")\n",
        "  plt.imshow(worst_preds.iloc[df_index]['image'])\n",
        "  plt.axis(False)"
      ],
      "metadata": {
        "colab": {
          "base_uri": "https://localhost:8080/",
          "height": 714
        },
        "id": "5Pn0nyhf5Xb8",
        "outputId": "5331ec7e-dbb8-4fdf-d3ac-747ec5fdaec9"
      },
      "execution_count": 140,
      "outputs": [
        {
          "output_type": "display_data",
          "data": {
            "image/png": "[encoded data removed]",
            "text/plain": [
              "<Figure size 864x864 with 9 Axes>"
            ]
          },
          "metadata": {
            "needs_background": "light"
          }
        }
      ]
    },
    {
      "cell_type": "code",
      "source": [
        ""
      ],
      "metadata": {
        "id": "OfMQGg8l7g7e"
      },
      "execution_count": null,
      "outputs": []
    }
  ]
}